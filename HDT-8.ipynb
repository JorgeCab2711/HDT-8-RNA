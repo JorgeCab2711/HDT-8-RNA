{
 "cells": [
  {
   "attachments": {},
   "cell_type": "markdown",
   "metadata": {},
   "source": [
    "# HDT 8 \n",
    "- Mariana David\n",
    "- Alejandra Guzmán\n",
    "- Jorge Caballeros 20009\n",
    " "
   ]
  },
  {
   "attachments": {},
   "cell_type": "markdown",
   "metadata": {},
   "source": [
    "1. Use los mismos conjuntos de entrenamiento y prueba que utilizó en las hojas anteriores.\n",
    "\n",
    "\n",
    "2. Seleccione como variable respuesta la que creó con las categorías del precio de la casa."
   ]
  },
  {
   "attachments": {},
   "cell_type": "markdown",
   "metadata": {},
   "source": [
    "Importing libraries"
   ]
  },
  {
   "cell_type": "code",
   "execution_count": 363,
   "metadata": {},
   "outputs": [],
   "source": [
    "import warnings\n",
    "warnings.filterwarnings(\"ignore\")\n",
    "import pandas as pd\n",
    "import numpy as np\n",
    "from sklearn import tree\n",
    "import matplotlib.pyplot as plt\n",
    "from sklearn.model_selection import train_test_split\n",
    "from sklearn.metrics import confusion_matrix, accuracy_score\n",
    "from keras.models import Sequential\n",
    "from keras.layers import Dense\n",
    "from keras.layers import LeakyReLU\n",
    "from sklearn.preprocessing import StandardScaler\n",
    "from keras.utils import to_categorical\n",
    "from sklearn.preprocessing import LabelEncoder\n",
    "from sklearn.model_selection import learning_curve"
   ]
  },
  {
   "attachments": {},
   "cell_type": "markdown",
   "metadata": {},
   "source": [
    "3. Genere dos modelos de redes neuronales que sean capaz de clasificar usando la variable \n",
    "respuesta que categoriza las casas en baratas, medias y caras. Estos modelos deben tener \n",
    "diferentes topologías y funciones de activación."
   ]
  },
  {
   "cell_type": "code",
   "execution_count": 364,
   "metadata": {},
   "outputs": [],
   "source": [
    "# Load data\n",
    "data = pd.read_csv('train.csv')\n",
    "data = pd.DataFrame(data)\n",
    "data.describe()\n",
    "# Preprocessing\n",
    "# Elimina columnas que no son relevantes o que contienen muchos valores faltantes\n",
    "data = data.drop(['Id', 'Alley', 'PoolQC', 'Fence', 'MiscFeature'], axis=1)\n",
    "\n",
    "# Elimina filas que tienen valores faltantes en columnas importantes\n",
    "data = data.dropna(subset=['SalePrice', 'GarageType', 'GarageFinish', 'GarageQual', 'GarageCond', 'LotFrontage', 'MasVnrType', 'MasVnrArea', 'BsmtQual', 'BsmtCond', 'BsmtExposure', 'BsmtFinType1', 'BsmtFinType2', 'Electrical'])\n",
    "\n",
    "# Rellena los valores faltantes con la media o la moda de la columna\n",
    "data['LotFrontage'] = data['LotFrontage'].fillna(data['LotFrontage'].mean())\n",
    "data['MasVnrType'] = data['MasVnrType'].fillna(data['MasVnrType'].mode()[0])\n",
    "data['MasVnrArea'] = data['MasVnrArea'].fillna(data['MasVnrArea'].mean())\n",
    "data['BsmtQual'] = data['BsmtQual'].fillna(data['BsmtQual'].mode()[0])\n",
    "data['BsmtCond'] = data['BsmtCond'].fillna(data['BsmtCond'].mode()[0])\n",
    "data['BsmtExposure'] = data['BsmtExposure'].fillna(data['BsmtExposure'].mode()[0])\n",
    "data['BsmtFinType1'] = data['BsmtFinType1'].fillna(data['BsmtFinType1'].mode()[0])\n",
    "data['BsmtFinType2'] = data['BsmtFinType2'].fillna(data['BsmtFinType2'].mode()[0])\n",
    "data['Electrical'] = data['Electrical'].fillna(data['Electrical'].mode()[0])\n",
    "\n",
    "# Convierte las variables categóricas en variables numéricas\n",
    "data = pd.get_dummies(data)\n",
    "\n",
    "# Guarda los datos limpios en un nuevo archivo CSV\n",
    "data.to_csv('train_cleaned.csv', index=False)\n",
    "\n"
   ]
  },
  {
   "attachments": {},
   "cell_type": "markdown",
   "metadata": {},
   "source": [
    "4. Use los modelos para predecir el valor de la variable respuesta"
   ]
  },
  {
   "cell_type": "code",
   "execution_count": 365,
   "metadata": {},
   "outputs": [
    {
     "name": "stdout",
     "output_type": "stream",
     "text": [
      "   MSSubClass  LotFrontage  LotArea  OverallQual  OverallCond  YearBuilt  \\\n",
      "0          60         65.0     8450            7            5       2003   \n",
      "1          20         80.0     9600            6            8       1976   \n",
      "2          60         68.0    11250            7            5       2001   \n",
      "3          70         60.0     9550            7            5       1915   \n",
      "4          60         84.0    14260            8            5       2000   \n",
      "\n",
      "   YearRemodAdd  MasVnrArea  BsmtFinSF1  BsmtFinSF2  ...  SaleType_New  \\\n",
      "0          2003       196.0         706           0  ...             0   \n",
      "1          1976         0.0         978           0  ...             0   \n",
      "2          2002       162.0         486           0  ...             0   \n",
      "3          1970         0.0         216           0  ...             0   \n",
      "4          2000       350.0         655           0  ...             0   \n",
      "\n",
      "   SaleType_Oth  SaleType_WD  SaleCondition_Abnorml  SaleCondition_AdjLand  \\\n",
      "0             0            1                      0                      0   \n",
      "1             0            1                      0                      0   \n",
      "2             0            1                      0                      0   \n",
      "3             0            1                      1                      0   \n",
      "4             0            1                      0                      0   \n",
      "\n",
      "   SaleCondition_Alloca  SaleCondition_Family  SaleCondition_Normal  \\\n",
      "0                     0                     0                     1   \n",
      "1                     0                     0                     1   \n",
      "2                     0                     0                     1   \n",
      "3                     0                     0                     0   \n",
      "4                     0                     0                     1   \n",
      "\n",
      "   SaleCondition_Partial  price_category  \n",
      "0                      0           caras  \n",
      "1                      0          medias  \n",
      "2                      0           caras  \n",
      "3                      0         baratas  \n",
      "4                      0           caras  \n",
      "\n",
      "[5 rows x 266 columns]\n"
     ]
    },
    {
     "data": {
      "text/plain": [
       "0         caras\n",
       "1        medias\n",
       "2         caras\n",
       "3       baratas\n",
       "4         caras\n",
       "         ...   \n",
       "1089     medias\n",
       "1090      caras\n",
       "1091      caras\n",
       "1092     medias\n",
       "1093     medias\n",
       "Name: price_category, Length: 1094, dtype: category\n",
       "Categories (3, object): ['baratas' < 'medias' < 'caras']"
      ]
     },
     "execution_count": 365,
     "metadata": {},
     "output_type": "execute_result"
    }
   ],
   "source": [
    "data = pd.read_csv('train_cleaned.csv')\n",
    "# Definir los límites de cada categoría de precio\n",
    "lim_inf = data['SalePrice'].quantile(0.33)\n",
    "lim_sup = data['SalePrice'].quantile(0.66)\n",
    "\n",
    "# Crear una nueva columna con la categoría de precio correspondiente\n",
    "data['price_category'] = pd.cut(data['SalePrice'], [0, lim_inf, lim_sup, data['SalePrice'].max()], labels=['baratas', 'medias', 'caras'])\n",
    "\n",
    "# Mostrar las primeras filas del dataframe con la nueva columna\n",
    "print(data.head())\n",
    "\n",
    "checkingcategory = pd.get_dummies(data['price_category'])\n",
    "checkingcategory.head()\n",
    "\n",
    "data = pd.concat([data, checkingcategory], axis=1)\n",
    "baratas = data.pop('baratas')\n",
    "medias = data.pop('medias')\n",
    "caras = data.pop('caras')\n",
    "data.pop('price_category')"
   ]
  },
  {
   "cell_type": "code",
   "execution_count": 366,
   "metadata": {},
   "outputs": [
    {
     "name": "stdout",
     "output_type": "stream",
     "text": [
      "Modelo 1 - Loss: 1.5836, Accuracy: 0.9361\n",
      "7/7 [==============================] - 0s 1ms/step\n",
      "7/7 [==============================] - 0s 1ms/step\n"
     ]
    }
   ],
   "source": [
    "# Modelo 1\n",
    "model1 = Sequential()\n",
    "model1.add(Dense(32, input_dim=X_train.shape[1], activation='relu'))\n",
    "model1.add(Dense(3, activation='softmax'))\n",
    "model1.compile(loss='categorical_crossentropy', optimizer='adam', metrics=['accuracy'])\n",
    "\n",
    "# Entrenar el modelo 1\n",
    "model1.fit(X_train, y_train, epochs=50, batch_size=64, verbose=0)\n",
    "\n",
    "# Evaluar el modelo 1 en el test set\n",
    "loss, accuracy = model1.evaluate(X_test, y_test, verbose=0)\n",
    "print(\"Modelo 1 - Loss: {:.4f}, Accuracy: {:.4f}\".format(loss, accuracy))\n",
    "\n",
    "#neurona con mayor prob\n",
    "\n",
    "predictionmodel1 = model1.predict(X_test)\n",
    "classpredictmodel1 = np.argmax(model1.predict(X_test), axis=-1)\n",
    "\n"
   ]
  },
  {
   "cell_type": "code",
   "execution_count": 367,
   "metadata": {},
   "outputs": [
    {
     "name": "stdout",
     "output_type": "stream",
     "text": [
      "Modelo 2 - Loss: 2.8320, Accuracy: 0.6986\n",
      "7/7 [==============================] - 0s 1ms/step\n",
      "7/7 [==============================] - 0s 3ms/step\n"
     ]
    }
   ],
   "source": [
    "#modelo 2\n",
    "\n",
    "# Crear modelo\n",
    "model2 = Sequential()\n",
    "model2.add(Dense(64, input_shape=(data.shape[1],)))\n",
    "model2.add(LeakyReLU(alpha=0.1))\n",
    "model2.add(Dense(32))\n",
    "model2.add(LeakyReLU(alpha=0.1))\n",
    "model2.add(Dense(16))\n",
    "model2.add(LeakyReLU(alpha=0.1))\n",
    "model2.add(Dense(8))\n",
    "model2.add(LeakyReLU(alpha=0.1))\n",
    "model2.add(Dense(3, activation='softmax'))\n",
    "\n",
    "# Compilar modelo\n",
    "model2.compile(loss='categorical_crossentropy', optimizer='adam', metrics=['accuracy'])\n",
    "\n",
    "# Entrenar el modelo 2\n",
    "model2.fit(X_train, y_train, epochs=50, batch_size=64, verbose=0)\n",
    "\n",
    "# Evaluar el modelo 2 en el test set\n",
    "loss, accuracy = model2.evaluate(X_test, y_test, verbose=0)\n",
    "print(\"Modelo 2 - Loss: {:.4f}, Accuracy: {:.4f}\".format(loss, accuracy))\n",
    "\n",
    "#neurona con mayor prob\n",
    "\n",
    "predictionmodel2 = model2.predict(X_test)\n",
    "classpredictmodel2 = np.argmax(model2.predict(X_test), axis=-1)\n"
   ]
  },
  {
   "attachments": {},
   "cell_type": "markdown",
   "metadata": {},
   "source": [
    "5. Haga las matrices de confusión respectivas."
   ]
  },
  {
   "cell_type": "code",
   "execution_count": 368,
   "metadata": {},
   "outputs": [
    {
     "name": "stdout",
     "output_type": "stream",
     "text": [
      "[[68  8  0]\n",
      " [ 2 63  3]\n",
      " [ 0  1 74]]\n"
     ]
    }
   ],
   "source": [
    "matrizdeconfusion1 = confusion_matrix(y_true=np.argmax(y_test.values, axis=-1), y_pred=classpredictmodel1)\n",
    "print(matrizdeconfusion1)"
   ]
  },
  {
   "attachments": {},
   "cell_type": "markdown",
   "metadata": {},
   "source": [
    "6. Compare los resultados obtenidos con los diferentes modelos de clasificación usando redes \n",
    "neuronales en cuanto a efectividad, tiempo de procesamiento y equivocaciones (donde el \n",
    "algoritmo se equivocó más, donde se equivocó menos y la importancia que tienen los \n",
    "errores)\n",
    "\n",
    "R//:El modelo de clasificación multiclase con dos capas densas es el más eficaz teniendo los mejores resultados y mejorando después de cada run, por lo tanto es el mas recomendable. Teniendo un rendimiento de 88% a comparacion del otro modelo que esta en 68% de rendimiento."
   ]
  },
  {
   "cell_type": "code",
   "execution_count": null,
   "metadata": {},
   "outputs": [],
   "source": []
  },
  {
   "attachments": {},
   "cell_type": "markdown",
   "metadata": {},
   "source": [
    "7. Analice si no hay sobreajuste en los modelos. Use para esto la curva de aprendizaje."
   ]
  },
  {
   "cell_type": "code",
   "execution_count": 369,
   "metadata": {},
   "outputs": [
    {
     "name": "stdout",
     "output_type": "stream",
     "text": [
      "Modelo 1: \n"
     ]
    },
    {
     "data": {
      "image/png": "[encoded data removed]",
      "text/plain": [
       "<Figure size 640x480 with 1 Axes>"
      ]
     },
     "metadata": {},
     "output_type": "display_data"
    },
    {
     "name": "stdout",
     "output_type": "stream",
     "text": [
      "Modelo 2: \n"
     ]
    },
    {
     "data": {
      "image/png": "[encoded data removed]",
      "text/plain": [
       "<Figure size 640x480 with 1 Axes>"
      ]
     },
     "metadata": {},
     "output_type": "display_data"
    }
   ],
   "source": [
    "\n",
    "train_sizes = [0.2, 0.4, 0.6, 0.8]\n",
    "\n",
    "def learningcurvetr(model, X_train, y_train, X_test, y_test):\n",
    "    train_scores = []\n",
    "    test_scores = []\n",
    "    for train_size in train_sizes:\n",
    "        X_train_subset, _, y_train_subset, _ = train_test_split(X_train, y_train, train_size=train_size, random_state=42)\n",
    "        model.fit(X_train_subset, y_train_subset, epochs=50, batch_size=32, verbose=0)\n",
    "        train_loss, train_acc = model.evaluate(X_train_subset, y_train_subset, verbose=0)\n",
    "        train_scores.append(train_acc)\n",
    "        test_loss, test_acc = model.evaluate(X_test, y_test, verbose=0)\n",
    "        test_scores.append(test_acc)\n",
    "    plt.plot(train_sizes, train_scores, 'o-', label='Training')\n",
    "    plt.plot(train_sizes, test_scores, 'o-', label='Validation')\n",
    "    plt.xlabel('Training size')\n",
    "    plt.ylabel('Accuracy')\n",
    "    plt.legend(loc='best')\n",
    "    plt.show()\n",
    "    \n",
    "print(\"Modelo 1: \")    \n",
    "    \n",
    "learningcurvetr(model1, X_train, y_train, X_test, y_test)\n",
    "\n",
    "print(\"Modelo 2: \")\n",
    "\n",
    "learningcurvetr(model2, X_train, y_train, X_test, y_test)"
   ]
  },
  {
   "attachments": {},
   "cell_type": "markdown",
   "metadata": {},
   "source": [
    "8. Para el modelo elegido de clasificación tunee los parámetros y discuta si puede mejorar \n",
    "todavía el modelo sin llegar a sobre ajustarlo.\n",
    "\n",
    "R//: Una forma de mejorar el modelo podría ser ajustando el tamaño y la complejidad de la arquitectura de la red neuronal. Podría intentar aumentar el número de neuronas en cada capa, agregar más capas o incluso probar diferentes tipos de capas (por ejemplo, capas convolucionales). Sin embargo, es importante tener en cuenta que si se aumenta demasiado la complejidad del modelo, puede conducir a sobreajuste.\n",
    "\n",
    "Otra forma de mejorar el modelo es ajustando los parámetros del optimizador. El optimizador Adam tiene varios parámetros ajustables, como la tasa de aprendizaje y los parámetros beta_1 y beta_2, que pueden afectar significativamente el rendimiento del modelo. Experimentar con diferentes valores de estos parámetros puede ayudar a mejorar el rendimiento del modelo."
   ]
  },
  {
   "attachments": {},
   "cell_type": "markdown",
   "metadata": {},
   "source": [
    "9. Seleccione ahora el SalesPrice como variable respuesta."
   ]
  },
  {
   "cell_type": "code",
   "execution_count": null,
   "metadata": {},
   "outputs": [],
   "source": []
  },
  {
   "attachments": {},
   "cell_type": "markdown",
   "metadata": {},
   "source": [
    "10. Genere dos modelos de regresión con redes neuronales con diferentes topologías y \n",
    "funciones de activación para predecir el precio de las casas."
   ]
  },
  {
   "cell_type": "code",
   "execution_count": null,
   "metadata": {},
   "outputs": [],
   "source": []
  },
  {
   "attachments": {},
   "cell_type": "markdown",
   "metadata": {},
   "source": [
    "11. Compare los dos modelos de regresión y determine cuál funcionó mejor para predecir el \n",
    "precio de las casas"
   ]
  },
  {
   "cell_type": "code",
   "execution_count": null,
   "metadata": {},
   "outputs": [],
   "source": []
  },
  {
   "attachments": {},
   "cell_type": "markdown",
   "metadata": {},
   "source": [
    "12. Analice si no hay sobreajuste en los modelos. Use para esto la curva de aprendizaje.\n",
    "\n"
   ]
  },
  {
   "cell_type": "code",
   "execution_count": null,
   "metadata": {},
   "outputs": [],
   "source": []
  },
  {
   "attachments": {},
   "cell_type": "markdown",
   "metadata": {},
   "source": [
    "13. Para el modelo elegido de regresión tunee los parámetros y discuta si puede mejorar \n",
    "todavía el modelo sin llegar a sobre ajustarlo. \n"
   ]
  },
  {
   "cell_type": "code",
   "execution_count": null,
   "metadata": {},
   "outputs": [],
   "source": []
  },
  {
   "attachments": {},
   "cell_type": "markdown",
   "metadata": {},
   "source": [
    "14. Compare la eficiencia del mejor modelo de RNA con los resultados obtenidos con los \n",
    "algoritmos de las hojas de trabajo anteriores. ¿Cuál es mejor para predecir? ¿Cuál se \n",
    "demoró más en procesar?\n"
   ]
  },
  {
   "cell_type": "code",
   "execution_count": null,
   "metadata": {},
   "outputs": [],
   "source": []
  },
  {
   "attachments": {},
   "cell_type": "markdown",
   "metadata": {},
   "source": [
    "15. Compare los resultados del mejor modelo de esta hoja para clasificar con los resultados de \n",
    "los algoritmos usados para clasificar de las hojas de trabajo anteriores\n"
   ]
  },
  {
   "cell_type": "code",
   "execution_count": null,
   "metadata": {},
   "outputs": [],
   "source": []
  },
  {
   "attachments": {},
   "cell_type": "markdown",
   "metadata": {},
   "source": [
    "16. Compare los resultados del mejor modelo para predecir el precio de venta con los \n",
    "resultados de los algoritmos usados para el mismo propósito de las hojas de trabajo \n",
    "anteriores.\n"
   ]
  },
  {
   "cell_type": "code",
   "execution_count": null,
   "metadata": {},
   "outputs": [],
   "source": []
  },
  {
   "attachments": {},
   "cell_type": "markdown",
   "metadata": {},
   "source": [
    "17. Ahora que ha usado todos los modelos que hemos visto y aplicados al conjunto de datos \n",
    "llegue a conclusiones sobre cual es o cuales son los mejores modelos para clasificar dadas \n",
    "las características del conjunto de datos. ¿Cuál o cuáles son los mejores para predecir el \n",
    "precio de las casas? Una tabla de resumen con las métricas de los modelos le puede resultar \n",
    "muy útil para esto.\n"
   ]
  },
  {
   "cell_type": "code",
   "execution_count": null,
   "metadata": {},
   "outputs": [],
   "source": []
  },
  {
   "attachments": {},
   "cell_type": "markdown",
   "metadata": {},
   "source": [
    "18. Genere un informe de los resultados y las explicaciones."
   ]
  },
  {
   "attachments": {},
   "cell_type": "markdown",
   "metadata": {},
   "source": []
  }
 ],
 "metadata": {
  "kernelspec": {
   "display_name": "Python 3",
   "language": "python",
   "name": "python3"
  },
  "language_info": {
   "codemirror_mode": {
    "name": "ipython",
    "version": 3
   },
   "file_extension": ".py",
   "mimetype": "text/x-python",
   "name": "python",
   "nbconvert_exporter": "python",
   "pygments_lexer": "ipython3",
   "version": "3.11.1"
  },
  "orig_nbformat": 4
 },
 "nbformat": 4,
 "nbformat_minor": 2
}
