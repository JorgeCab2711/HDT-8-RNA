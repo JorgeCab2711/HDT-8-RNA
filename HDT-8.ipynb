{
 "cells": [
  {
   "attachments": {},
   "cell_type": "markdown",
   "metadata": {},
   "source": [
    "# HDT 8 \n",
    "- Mariana David\n",
    "- Alejandra Guzmán\n",
    "- Jorge Caballeros 20009\n",
    " "
   ]
  },
  {
   "attachments": {},
   "cell_type": "markdown",
   "metadata": {},
   "source": [
    "1. Use los mismos conjuntos de entrenamiento y prueba que utilizó en las hojas anteriores.\n",
    "\n",
    "\n",
    "2. Seleccione como variable respuesta la que creó con las categorías del precio de la casa."
   ]
  },
  {
   "attachments": {},
   "cell_type": "markdown",
   "metadata": {},
   "source": [
    "Importing libraries"
   ]
  },
  {
   "cell_type": "code",
   "execution_count": 50,
   "metadata": {},
   "outputs": [],
   "source": [
    "import warnings\n",
    "warnings.filterwarnings(\"ignore\")\n",
    "import pandas as pd\n",
    "import numpy as np\n",
    "from sklearn import tree\n",
    "import matplotlib.pyplot as plt\n",
    "from sklearn.model_selection import train_test_split\n",
    "from sklearn.datasets import load_breast_cancer\n",
    "from sklearn.metrics import confusion_matrix, accuracy_score\n",
    "from keras.models import Sequential\n",
    "from keras.layers import Dense\n",
    "from keras.utils import to_categorical\n",
    "from sklearn.preprocessing import LabelEncoder\n",
    "from sklearn.model_selection import learning_curve"
   ]
  },
  {
   "cell_type": "code",
   "execution_count": null,
   "metadata": {},
   "outputs": [],
   "source": []
  },
  {
   "attachments": {},
   "cell_type": "markdown",
   "metadata": {},
   "source": [
    "3. Genere dos modelos de redes neuronales que sean capaz de clasificar usando la variable \n",
    "respuesta que categoriza las casas en baratas, medias y caras. Estos modelos deben tener \n",
    "diferentes topologías y funciones de activación."
   ]
  },
  {
   "cell_type": "code",
   "execution_count": 51,
   "metadata": {},
   "outputs": [],
   "source": [
    "# Load data\n",
    "data = pd.read_csv('train.csv')\n",
    "data = pd.DataFrame(data)\n",
    "data.describe()\n",
    "# Preprocessing\n",
    "# Elimina columnas que no son relevantes o que contienen muchos valores faltantes\n",
    "data = data.drop(['Id', 'Alley', 'PoolQC', 'Fence', 'MiscFeature'], axis=1)\n",
    "\n",
    "# Elimina filas que tienen valores faltantes en columnas importantes\n",
    "data = data.dropna(subset=['SalePrice', 'GarageType', 'GarageFinish', 'GarageQual', 'GarageCond', 'LotFrontage', 'MasVnrType', 'MasVnrArea', 'BsmtQual', 'BsmtCond', 'BsmtExposure', 'BsmtFinType1', 'BsmtFinType2', 'Electrical'])\n",
    "\n",
    "# Rellena los valores faltantes con la media o la moda de la columna\n",
    "data['LotFrontage'] = data['LotFrontage'].fillna(data['LotFrontage'].mean())\n",
    "data['MasVnrType'] = data['MasVnrType'].fillna(data['MasVnrType'].mode()[0])\n",
    "data['MasVnrArea'] = data['MasVnrArea'].fillna(data['MasVnrArea'].mean())\n",
    "data['BsmtQual'] = data['BsmtQual'].fillna(data['BsmtQual'].mode()[0])\n",
    "data['BsmtCond'] = data['BsmtCond'].fillna(data['BsmtCond'].mode()[0])\n",
    "data['BsmtExposure'] = data['BsmtExposure'].fillna(data['BsmtExposure'].mode()[0])\n",
    "data['BsmtFinType1'] = data['BsmtFinType1'].fillna(data['BsmtFinType1'].mode()[0])\n",
    "data['BsmtFinType2'] = data['BsmtFinType2'].fillna(data['BsmtFinType2'].mode()[0])\n",
    "data['Electrical'] = data['Electrical'].fillna(data['Electrical'].mode()[0])\n",
    "\n",
    "# Convierte las variables categóricas en variables numéricas\n",
    "data = pd.get_dummies(data)\n",
    "\n",
    "# Guarda los datos limpios en un nuevo archivo CSV\n",
    "data.to_csv('train_cleaned.csv', index=False)\n",
    "\n"
   ]
  },
  {
   "attachments": {},
   "cell_type": "markdown",
   "metadata": {},
   "source": [
    "4. Use los modelos para predecir el valor de la variable respuesta"
   ]
  },
  {
   "cell_type": "code",
   "execution_count": null,
   "metadata": {},
   "outputs": [],
   "source": []
  },
  {
   "attachments": {},
   "cell_type": "markdown",
   "metadata": {},
   "source": [
    "5. Haga las matrices de confusión respectivas."
   ]
  },
  {
   "cell_type": "code",
   "execution_count": null,
   "metadata": {},
   "outputs": [],
   "source": []
  },
  {
   "attachments": {},
   "cell_type": "markdown",
   "metadata": {},
   "source": [
    "6. Compare los resultados obtenidos con los diferentes modelos de clasificación usando redes \n",
    "neuronales en cuanto a efectividad, tiempo de procesamiento y equivocaciones (donde el \n",
    "algoritmo se equivocó más, donde se equivocó menos y la importancia que tienen los \n",
    "errores)"
   ]
  },
  {
   "cell_type": "code",
   "execution_count": null,
   "metadata": {},
   "outputs": [],
   "source": []
  },
  {
   "attachments": {},
   "cell_type": "markdown",
   "metadata": {},
   "source": [
    "7. Analice si no hay sobreajuste en los modelos. Use para esto la curva de aprendizaje."
   ]
  },
  {
   "cell_type": "code",
   "execution_count": null,
   "metadata": {},
   "outputs": [],
   "source": []
  },
  {
   "attachments": {},
   "cell_type": "markdown",
   "metadata": {},
   "source": [
    "8. Para el modelo elegido de clasificación tunee los parámetros y discuta si puede mejorar \n",
    "todavía el modelo sin llegar a sobre ajustarlo."
   ]
  },
  {
   "cell_type": "code",
   "execution_count": null,
   "metadata": {},
   "outputs": [],
   "source": []
  },
  {
   "attachments": {},
   "cell_type": "markdown",
   "metadata": {},
   "source": [
    "9. Seleccione ahora el SalesPrice como variable respuesta."
   ]
  },
  {
   "cell_type": "code",
   "execution_count": null,
   "metadata": {},
   "outputs": [],
   "source": []
  },
  {
   "attachments": {},
   "cell_type": "markdown",
   "metadata": {},
   "source": [
    "10. Genere dos modelos de regresión con redes neuronales con diferentes topologías y \n",
    "funciones de activación para predecir el precio de las casas."
   ]
  },
  {
   "cell_type": "code",
   "execution_count": null,
   "metadata": {},
   "outputs": [],
   "source": []
  },
  {
   "attachments": {},
   "cell_type": "markdown",
   "metadata": {},
   "source": [
    "11. Compare los dos modelos de regresión y determine cuál funcionó mejor para predecir el \n",
    "precio de las casas"
   ]
  },
  {
   "cell_type": "code",
   "execution_count": null,
   "metadata": {},
   "outputs": [],
   "source": []
  },
  {
   "attachments": {},
   "cell_type": "markdown",
   "metadata": {},
   "source": [
    "12. Analice si no hay sobreajuste en los modelos. Use para esto la curva de aprendizaje.\n",
    "\n"
   ]
  },
  {
   "cell_type": "code",
   "execution_count": null,
   "metadata": {},
   "outputs": [],
   "source": []
  },
  {
   "attachments": {},
   "cell_type": "markdown",
   "metadata": {},
   "source": [
    "13. Para el modelo elegido de regresión tunee los parámetros y discuta si puede mejorar \n",
    "todavía el modelo sin llegar a sobre ajustarlo. \n"
   ]
  },
  {
   "cell_type": "code",
   "execution_count": null,
   "metadata": {},
   "outputs": [],
   "source": []
  },
  {
   "attachments": {},
   "cell_type": "markdown",
   "metadata": {},
   "source": [
    "14. Compare la eficiencia del mejor modelo de RNA con los resultados obtenidos con los \n",
    "algoritmos de las hojas de trabajo anteriores. ¿Cuál es mejor para predecir? ¿Cuál se \n",
    "demoró más en procesar?\n"
   ]
  },
  {
   "cell_type": "code",
   "execution_count": null,
   "metadata": {},
   "outputs": [],
   "source": []
  },
  {
   "attachments": {},
   "cell_type": "markdown",
   "metadata": {},
   "source": [
    "15. Compare los resultados del mejor modelo de esta hoja para clasificar con los resultados de \n",
    "los algoritmos usados para clasificar de las hojas de trabajo anteriores\n"
   ]
  },
  {
   "cell_type": "code",
   "execution_count": null,
   "metadata": {},
   "outputs": [],
   "source": []
  },
  {
   "attachments": {},
   "cell_type": "markdown",
   "metadata": {},
   "source": [
    "16. Compare los resultados del mejor modelo para predecir el precio de venta con los \n",
    "resultados de los algoritmos usados para el mismo propósito de las hojas de trabajo \n",
    "anteriores.\n"
   ]
  },
  {
   "cell_type": "code",
   "execution_count": null,
   "metadata": {},
   "outputs": [],
   "source": []
  },
  {
   "attachments": {},
   "cell_type": "markdown",
   "metadata": {},
   "source": [
    "17. Ahora que ha usado todos los modelos que hemos visto y aplicados al conjunto de datos \n",
    "llegue a conclusiones sobre cual es o cuales son los mejores modelos para clasificar dadas \n",
    "las características del conjunto de datos. ¿Cuál o cuáles son los mejores para predecir el \n",
    "precio de las casas? Una tabla de resumen con las métricas de los modelos le puede resultar \n",
    "muy útil para esto.\n"
   ]
  },
  {
   "cell_type": "code",
   "execution_count": null,
   "metadata": {},
   "outputs": [],
   "source": []
  },
  {
   "attachments": {},
   "cell_type": "markdown",
   "metadata": {},
   "source": [
    "18. Genere un informe de los resultados y las explicaciones."
   ]
  },
  {
   "attachments": {},
   "cell_type": "markdown",
   "metadata": {},
   "source": []
  }
 ],
 "metadata": {
  "kernelspec": {
   "display_name": "Python 3",
   "language": "python",
   "name": "python3"
  },
  "language_info": {
   "codemirror_mode": {
    "name": "ipython",
    "version": 3
   },
   "file_extension": ".py",
   "mimetype": "text/x-python",
   "name": "python",
   "nbconvert_exporter": "python",
   "pygments_lexer": "ipython3",
   "version": "3.11.1"
  },
  "orig_nbformat": 4
 },
 "nbformat": 4,
 "nbformat_minor": 2
}
