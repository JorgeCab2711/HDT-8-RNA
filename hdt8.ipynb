{
 "cells": [
  {
   "attachments": {},
   "cell_type": "markdown",
   "id": "229bd650",
   "metadata": {},
   "source": [
    "Universidad del Valle de Guatemala <br> \n",
    "Minería de Datos \n",
    "\n",
    "# Hoja de Trabajo 8 \n",
    "## RNA\n",
    "\n",
    "**Integrantes:**<br>\n",
    "Mariana David 201055 <br>\n",
    "Jorge Caballeros  <br>\n",
    "Alejandra Guzman   <br>"
   ]
  },
  {
   "cell_type": "markdown",
   "id": "84b6a8f4",
   "metadata": {},
   "source": [
    "### Importar modulos"
   ]
  },
  {
   "cell_type": "code",
   "execution_count": 1,
   "id": "573e28d4",
   "metadata": {},
   "outputs": [
    {
     "ename": "ModuleNotFoundError",
     "evalue": "No module named 'seaborn'",
     "output_type": "error",
     "traceback": [
      "\u001b[1;31m---------------------------------------------------------------------------\u001b[0m",
      "\u001b[1;31mModuleNotFoundError\u001b[0m                       Traceback (most recent call last)",
      "Cell \u001b[1;32mIn[1], line 4\u001b[0m\n\u001b[0;32m      2\u001b[0m \u001b[39mimport\u001b[39;00m \u001b[39mnumpy\u001b[39;00m \u001b[39mas\u001b[39;00m \u001b[39mnp\u001b[39;00m\n\u001b[0;32m      3\u001b[0m \u001b[39mimport\u001b[39;00m \u001b[39mmatplotlib\u001b[39;00m\u001b[39m.\u001b[39;00m\u001b[39mpyplot\u001b[39;00m \u001b[39mas\u001b[39;00m \u001b[39mplt\u001b[39;00m\n\u001b[1;32m----> 4\u001b[0m \u001b[39mimport\u001b[39;00m \u001b[39mseaborn\u001b[39;00m \u001b[39mas\u001b[39;00m \u001b[39msb\u001b[39;00m\n\u001b[0;32m      5\u001b[0m \u001b[39mimport\u001b[39;00m \u001b[39msklearn\u001b[39;00m\u001b[39m.\u001b[39;00m\u001b[39mcluster\u001b[39;00m \u001b[39mas\u001b[39;00m \u001b[39mcluster\u001b[39;00m\n\u001b[0;32m      6\u001b[0m \u001b[39mimport\u001b[39;00m \u001b[39msklearn\u001b[39;00m\u001b[39m.\u001b[39;00m\u001b[39mmetrics\u001b[39;00m \u001b[39mas\u001b[39;00m \u001b[39mmetrics\u001b[39;00m\n",
      "\u001b[1;31mModuleNotFoundError\u001b[0m: No module named 'seaborn'"
     ]
    }
   ],
   "source": [
    "import pandas as pd\n",
    "import numpy as np\n",
    "import matplotlib.pyplot as plt\n",
    "import seaborn as sb\n",
    "import sklearn.cluster as cluster\n",
    "import sklearn.metrics as metrics\n",
    "import sklearn.preprocessing\n",
    "import scipy.cluster.hierarchy as sch\n",
    "import skfuzzy as fuzz\n",
    "import pylab\n",
    "import sklearn.mixture as mixture\n",
    "import random\n",
    "import math\n",
    "import time\n",
    "import statsmodels.api as sm\n",
    "from sklearn.linear_model import LogisticRegression\n",
    "from sklearn.tree import DecisionTreeClassifier\n",
    "from yellowbrick.cluster import SilhouetteVisualizer\n",
    "from yellowbrick.datasets import load_nfl\n",
    "from sklearn import linear_model\n",
    "from sklearn.metrics import mean_squared_error, r2_score, accuracy_score, precision_score, recall_score, f1_score\n",
    "from sklearn import datasets\n",
    "from scipy import stats\n",
    "from sklearn.metrics import confusion_matrix as Confusion_Matrix\n",
    "from sklearn.model_selection import train_test_split\n",
    "from matplotlib import pyplot\n",
    "from sklearn.neural_network import MLPClassifier, MLPRegressor\n",
    "\n",
    "%matplotlib inline\n",
    "from mpl_toolkits.mplot3d import Axes3D\n",
    "plt.rcParams['figure.figsize'] = (16, 9)\n",
    "plt.style.use('ggplot')"
   ]
  },
  {
   "cell_type": "markdown",
   "id": "5550054a",
   "metadata": {},
   "source": [
    "### Carga de datos"
   ]
  },
  {
   "cell_type": "code",
   "execution_count": 7,
   "id": "f899a676",
   "metadata": {},
   "outputs": [],
   "source": [
    "#Cargamos datos \n",
    "data_entrenamiento = pd.read_csv('train.csv', encoding='unicode_escape')\n",
    "data_prueba = pd.read_csv('test.csv', encoding='unicode_escape')\n",
    "#Removemos cariables que no nos sirven\n",
    "var_entrenamiento = data_entrenamiento.drop(['Street', 'Id', 'MSZoning', 'Alley', 'LotShape', 'LandContour', 'Utilities', 'LotConfig', \n",
    "                         'LandSlope', 'Neighborhood', 'Condition1', 'Condition2', 'BldgType', 'HouseStyle','RoofStyle', \n",
    "                         'RoofMatl', 'Exterior1st', 'Exterior2nd', 'MasVnrType', 'ExterQual', 'ExterCond',\n",
    "                         'Foundation', 'BsmtQual', 'BsmtCond', 'BsmtExposure', 'BsmtFinType1', 'BsmtFinType2', 'Heating', \n",
    "                         'HeatingQC', 'CentralAir', 'Electrical', 'KitchenQual', 'Functional', 'FireplaceQu', 'GarageType',\n",
    "                         'GarageFinish', 'GarageQual', 'GarageCond', 'PavedDrive','PoolQC', 'Fence', 'MiscFeature', \n",
    "                         'SaleType', 'SaleCondition'], axis=1)\n",
    "\n",
    "#Removemos datos nulos \n",
    "var_entrenamiento.dropna(subset = [\"LotFrontage\"], inplace = True)\n",
    "var_entrenamiento.dropna(subset = [\"MasVnrArea\"], inplace = True)\n",
    "var_entrenamiento.dropna(subset = [\"GarageYrBlt\"], inplace = True)\n"
   ]
  },
  {
   "attachments": {},
   "cell_type": "markdown",
   "id": "93434cb8",
   "metadata": {},
   "source": [
    "Luego de limpiar los datos aplicamos \"Normalizacion\":"
   ]
  },
  {
   "cell_type": "code",
   "execution_count": 8,
   "id": "e7558aac",
   "metadata": {},
   "outputs": [],
   "source": [
    "def normalizer(column):\n",
    "    return (column - column.mean())/(column.std())\n",
    "\n",
    "for col in var_entrenamiento.columns:\n",
    "    var_entrenamiento[col] = normalizer(var_entrenamiento[col])"
   ]
  },
  {
   "cell_type": "markdown",
   "id": "88da473a",
   "metadata": {},
   "source": [
    "Eliminacion de datos atipicos"
   ]
  },
  {
   "cell_type": "markdown",
   "id": "40f48b8d",
   "metadata": {},
   "source": [
    "### 2) Creacion de la variable categórica que especifica si la casa es barata, media o cara"
   ]
  },
  {
   "cell_type": "code",
   "execution_count": 7,
   "id": "d2fe02ed",
   "metadata": {},
   "outputs": [],
   "source": [
    "kmeans = cluster.KMeans(n_clusters = 3)\n",
    "X = np.array(entrenamiento[[\"SalePrice\", \"OverallQual\", \"YearBuilt\", \"YearRemodAdd\", \"TotalBsmtSF\", \"1stFlrSF\", \"GrLivArea\", \"FullBath\", \"GarageYrBlt\", \"GarageCars\", \"GarageArea\"]])\n",
    "X = sklearn.preprocessing.scale(X)\n",
    "kmeans.fit(X)\n",
    "entrenamiento['KmeansCluster'] = kmeans.labels_"
   ]
  },
  {
   "cell_type": "code",
   "execution_count": 8,
   "id": "c9f69e3f",
   "metadata": {},
   "outputs": [],
   "source": [
    "X = entrenamiento[[\"OverallQual\", \"YearBuilt\", \"YearRemodAdd\", \"TotalBsmtSF\", \"1stFlrSF\", \"GrLivArea\", \"FullBath\", \n",
    "                   \"GarageYrBlt\", \"GarageCars\", \"GarageArea\"]]\n",
    "y = entrenamiento[\"KmeansCluster\"]"
   ]
  },
  {
   "cell_type": "markdown",
   "id": "b2f39eab",
   "metadata": {},
   "source": [
    "### Separando en Train y Test"
   ]
  },
  {
   "cell_type": "code",
   "execution_count": 9,
   "id": "8f027a51",
   "metadata": {},
   "outputs": [],
   "source": [
    "X_train, X_test,y_train, y_test = train_test_split(X, y,test_size=0.3,train_size=0.7)"
   ]
  },
  {
   "cell_type": "markdown",
   "id": "07b31828",
   "metadata": {},
   "source": [
    "## Incisos del 3 al 5, Creando módelo, Predicción de cada uno, Matrices de confusión, Comparación"
   ]
  },
  {
   "cell_type": "markdown",
   "id": "d95ec8f0",
   "metadata": {},
   "source": [
    "### lbfgs y activación relu"
   ]
  },
  {
   "cell_type": "code",
   "execution_count": 10,
   "id": "16eafe35",
   "metadata": {},
   "outputs": [
    {
     "data": {
      "text/plain": [
       "array([1, 1, 1, 0, 2, 1, 2, 1, 1, 2, 0, 1, 0, 1, 0, 2, 0, 2, 2, 2, 0, 1,\n",
       "       2, 1, 2, 0, 2, 0, 1, 1, 0, 1, 1, 1, 2, 0, 0, 0, 0, 0, 2, 1, 1, 2,\n",
       "       2, 1, 2, 0, 0, 0, 0, 0, 1, 1, 0, 1, 0, 2, 2, 0, 0, 2, 0, 1, 0, 0,\n",
       "       2, 0, 0, 0, 0, 2, 2, 0, 0, 1, 1, 2, 0, 0, 0, 0, 0, 2, 0, 1, 0, 0,\n",
       "       1, 2, 2, 2, 1, 1, 0, 2, 1, 0, 0, 0, 1, 1, 0, 0, 0, 0, 0, 0, 2, 1,\n",
       "       0, 2, 2], dtype=int32)"
      ]
     },
     "execution_count": 10,
     "metadata": {},
     "output_type": "execute_result"
    }
   ],
   "source": [
    "mlp = MLPClassifier(hidden_layer_sizes=(10,8), solver = \"lbfgs\", max_iter=1000)\n",
    "start = time.time()\n",
    "mlp.fit(X_train,y_train)\n",
    "y_pred = mlp.predict(X_test)\n",
    "end = time.time()\n",
    "y_pred"
   ]
  },
  {
   "cell_type": "code",
   "execution_count": 11,
   "id": "6afd4a34",
   "metadata": {},
   "outputs": [
    {
     "name": "stdout",
     "output_type": "stream",
     "text": [
      "Matriz de confusión\n",
      " [[51  2  0]\n",
      " [ 0 29  0]\n",
      " [ 0  1 30]]\n",
      "Accuracy:  0.9734513274336283\n",
      "Tiempo de ejecucion: 0.0144\n"
     ]
    }
   ],
   "source": [
    "cm = Confusion_Matrix(y_test,y_pred)\n",
    "accuracy=accuracy_score(y_test,y_pred)\n",
    "precision =precision_score(y_test, y_pred,average='micro')\n",
    "recall =  recall_score(y_test, y_pred,average='micro')\n",
    "f1 = f1_score(y_test,y_pred,average='micro')\n",
    "print('Matriz de confusión\\n',cm)\n",
    "print('Accuracy: ',accuracy)\n",
    "print('Tiempo de ejecucion: ' + str(round((end - start), 4)))"
   ]
  },
  {
   "cell_type": "markdown",
   "id": "d3b97268",
   "metadata": {},
   "source": [
    "### Matriz de Confusión"
   ]
  },
  {
   "cell_type": "code",
   "execution_count": 12,
   "id": "d3a2dd70",
   "metadata": {},
   "outputs": [
    {
     "data": {
      "image/png": "[encoded data removed]",
      "text/plain": [
       "<Figure size 1152x648 with 2 Axes>"
      ]
     },
     "metadata": {},
     "output_type": "display_data"
    }
   ],
   "source": [
    "sb.heatmap(cm, annot=True, cmap=\"YlGnBu\")\n",
    "plt.show()"
   ]
  },
  {
   "cell_type": "markdown",
   "id": "4ade8685",
   "metadata": {},
   "source": [
    "### adam y activación tanh"
   ]
  },
  {
   "cell_type": "code",
   "execution_count": 13,
   "id": "926a6b0c",
   "metadata": {},
   "outputs": [
    {
     "data": {
      "text/plain": [
       "array([1, 1, 1, 0, 2, 1, 2, 1, 1, 2, 0, 1, 0, 1, 0, 2, 0, 2, 2, 2, 0, 1,\n",
       "       2, 1, 2, 0, 2, 0, 1, 1, 0, 1, 1, 1, 2, 0, 0, 0, 0, 0, 2, 0, 1, 2,\n",
       "       2, 1, 2, 0, 0, 0, 0, 0, 1, 1, 0, 1, 0, 2, 2, 0, 0, 2, 0, 1, 0, 0,\n",
       "       2, 0, 0, 0, 0, 2, 2, 0, 0, 1, 1, 2, 0, 0, 0, 0, 0, 2, 0, 1, 0, 0,\n",
       "       1, 2, 2, 2, 1, 1, 0, 2, 1, 0, 0, 0, 1, 1, 0, 0, 0, 0, 0, 0, 2, 1,\n",
       "       0, 2, 2], dtype=int32)"
      ]
     },
     "execution_count": 13,
     "metadata": {},
     "output_type": "execute_result"
    }
   ],
   "source": [
    "mlp = MLPClassifier(hidden_layer_sizes=(10,8), activation=\"tanh\" , solver = \"adam\", max_iter=1000)\n",
    "start = time.time()\n",
    "mlp.fit(X_train,y_train)\n",
    "y_pred = mlp.predict(X_test)\n",
    "end = time.time()\n",
    "y_pred"
   ]
  },
  {
   "cell_type": "code",
   "execution_count": 14,
   "id": "09b92b50",
   "metadata": {},
   "outputs": [
    {
     "name": "stdout",
     "output_type": "stream",
     "text": [
      "Matriz de confusión\n",
      " [[52  1  0]\n",
      " [ 0 29  0]\n",
      " [ 0  1 30]]\n",
      "Accuracy:  0.9823008849557522\n",
      "Tiempo de ejecucion: 0.5268\n"
     ]
    }
   ],
   "source": [
    "cm = Confusion_Matrix(y_test,y_pred)\n",
    "accuracy=accuracy_score(y_test,y_pred)\n",
    "precision =precision_score(y_test, y_pred,average='micro')\n",
    "recall =  recall_score(y_test, y_pred,average='micro')\n",
    "f1 = f1_score(y_test,y_pred,average='micro')\n",
    "print('Matriz de confusión\\n',cm)\n",
    "print('Accuracy: ',accuracy)\n",
    "print('Tiempo de ejecucion: ' + str(round((end - start), 4)))"
   ]
  },
  {
   "cell_type": "markdown",
   "id": "8df294e3",
   "metadata": {},
   "source": [
    "### Matriz de Confusión"
   ]
  },
  {
   "cell_type": "code",
   "execution_count": 15,
   "id": "0fb6de91",
   "metadata": {},
   "outputs": [
    {
     "data": {
      "image/png": "[encoded data removed]",
      "text/plain": [
       "<Figure size 1152x648 with 2 Axes>"
      ]
     },
     "metadata": {},
     "output_type": "display_data"
    }
   ],
   "source": [
    "sb.heatmap(cm, annot=True, cmap=\"YlGnBu\")\n",
    "plt.show()"
   ]
  },
  {
   "cell_type": "markdown",
   "id": "d41da2cb",
   "metadata": {},
   "source": [
    "## 6) Comparación"
   ]
  },
  {
   "cell_type": "code",
   "execution_count": 16,
   "id": "67e2f663",
   "metadata": {},
   "outputs": [
    {
     "data": {
      "text/html": [
       "<div>\n",
       "<style scoped>\n",
       "    .dataframe tbody tr th:only-of-type {\n",
       "        vertical-align: middle;\n",
       "    }\n",
       "\n",
       "    .dataframe tbody tr th {\n",
       "        vertical-align: top;\n",
       "    }\n",
       "\n",
       "    .dataframe thead th {\n",
       "        text-align: right;\n",
       "    }\n",
       "</style>\n",
       "<table border=\"1\" class=\"dataframe\">\n",
       "  <thead>\n",
       "    <tr style=\"text-align: right;\">\n",
       "      <th></th>\n",
       "      <th>Topología</th>\n",
       "      <th>Modo de activación</th>\n",
       "      <th>Precision</th>\n",
       "      <th>Tiempo de ejecucion</th>\n",
       "      <th>Errores</th>\n",
       "    </tr>\n",
       "  </thead>\n",
       "  <tbody>\n",
       "    <tr>\n",
       "      <th>0</th>\n",
       "      <td>lbfgs</td>\n",
       "      <td>relu</td>\n",
       "      <td>0.9911504424778761</td>\n",
       "      <td>0.0399</td>\n",
       "      <td>1</td>\n",
       "    </tr>\n",
       "    <tr>\n",
       "      <th>1</th>\n",
       "      <td>adam</td>\n",
       "      <td>tanh</td>\n",
       "      <td>0.9557522123893806</td>\n",
       "      <td>1.1561</td>\n",
       "      <td>5</td>\n",
       "    </tr>\n",
       "  </tbody>\n",
       "</table>\n",
       "</div>"
      ],
      "text/plain": [
       "  Topología Modo de activación           Precision Tiempo de ejecucion Errores\n",
       "0     lbfgs               relu  0.9911504424778761              0.0399       1\n",
       "1      adam               tanh  0.9557522123893806              1.1561       5"
      ]
     },
     "execution_count": 16,
     "metadata": {},
     "output_type": "execute_result"
    }
   ],
   "source": [
    "topology = [\"lbfgs\", \"adam\"]\n",
    "activations = [\"relu\", \"tanh\"]\n",
    "accuracies = [\"0.9911504424778761\", \"0.9557522123893806\"] \n",
    "times = [\"0.0399\", \"1.1561\"]\n",
    "errors = [\"1\", \"5\"]\n",
    "\n",
    "d = {'Topología': topology, 'Modo de activación': activations, 'Precision': accuracies, 'Tiempo de ejecucion': times, 'Errores': errors}\n",
    "df = pd.DataFrame(data=d)\n",
    "pd.options.display.max_colwidth = 100\n",
    "df"
   ]
  },
  {
   "cell_type": "markdown",
   "id": "db8249c5",
   "metadata": {},
   "source": [
    "Podemos ver que utilizar un modelo de RNA basado en la topología lbfgs y modo de activación relu, nos da una efectividad de casi el 100% mientras que utilizano la topología adam y tanh, el resultado es de 0.95 en mucho mayor tiempo, por lo que en efectividad, equivocación gana el primer modelo. La importancia de los errores en este caso, es que predijo casas que pertenecieran a dos grupos al mismo tiempo(economicas, medias, caras) lo cual no es posible porque tienen que pertenecer estrictamente a un grupo para que esta puedan pertener a la variable categorica. "
   ]
  },
  {
   "cell_type": "markdown",
   "id": "cd0baeeb",
   "metadata": {},
   "source": [
    "## 7. Seleccione ahora el SalesPrice como variable respuesta."
   ]
  },
  {
   "cell_type": "code",
   "execution_count": 66,
   "id": "a86dad33",
   "metadata": {},
   "outputs": [],
   "source": [
    "X = var_entrenamiento[[\"OverallQual\", \"YearBuilt\", \"YearRemodAdd\", \"TotalBsmtSF\", \"1stFlrSF\", \"GrLivArea\", \"FullBath\", \n",
    "                   \"GarageYrBlt\", \"GarageCars\", \"GarageArea\"]]\n",
    "y = var_entrenamiento[\"SalePrice\"]"
   ]
  },
  {
   "cell_type": "code",
   "execution_count": 68,
   "id": "c86afa43",
   "metadata": {},
   "outputs": [],
   "source": [
    "X_train, X_test,y_train, y_test = train_test_split(X, y,test_size=0.3,train_size=0.7)"
   ]
  },
  {
   "attachments": {},
   "cell_type": "markdown",
   "id": "5fd4fd4f",
   "metadata": {},
   "source": [
    "## 10. Genere  dos  modelos  de  regresión  con  redes  neuronales  con  diferentes  topologías  y funciones de activación para predecir el precio de las casas."
   ]
  },
  {
   "attachments": {},
   "cell_type": "markdown",
   "id": "f9521174",
   "metadata": {},
   "source": [
    "### Modelo uno impelementando algoritmo de optimización y función de activación utilizada en las redes neuronales para introducir no linealidad en los modelos"
   ]
  },
  {
   "cell_type": "code",
   "execution_count": 12,
   "id": "6db800df",
   "metadata": {},
   "outputs": [
    {
     "ename": "NameError",
     "evalue": "name 'MLPRegressor' is not defined",
     "output_type": "error",
     "traceback": [
      "\u001b[1;31m---------------------------------------------------------------------------\u001b[0m",
      "\u001b[1;31mNameError\u001b[0m                                 Traceback (most recent call last)",
      "Cell \u001b[1;32mIn[12], line 2\u001b[0m\n\u001b[0;32m      1\u001b[0m \u001b[39m# \"L-BFGS\" y \"ReLU\"\u001b[39;00m\n\u001b[1;32m----> 2\u001b[0m mlp \u001b[39m=\u001b[39m MLPRegressor(hidden_layer_sizes\u001b[39m=\u001b[39m(\u001b[39m10\u001b[39m,\u001b[39m8\u001b[39m), solver \u001b[39m=\u001b[39m \u001b[39m\"\u001b[39m\u001b[39mlbfgs\u001b[39m\u001b[39m\"\u001b[39m, max_iter\u001b[39m=\u001b[39m\u001b[39m1000\u001b[39m)\n\u001b[0;32m      3\u001b[0m start \u001b[39m=\u001b[39m time\u001b[39m.\u001b[39mtime()\n\u001b[0;32m      4\u001b[0m mlp\u001b[39m.\u001b[39mfit(X_train,y_train)\n",
      "\u001b[1;31mNameError\u001b[0m: name 'MLPRegressor' is not defined"
     ]
    }
   ],
   "source": [
    "# \"L-BFGS\" y \"ReLU\"\n",
    "mlp = MLPRegressor(hidden_layer_sizes=(10,8), solver = \"lbfgs\", max_iter=1000)\n",
    "start = time.time()\n",
    "mlp.fit(X_train,y_train)\n",
    "y_pred = mlp.predict(X_test)\n",
    "end = time.time()\n",
    "t1 = end - start\n",
    "y_pred"
   ]
  },
  {
   "attachments": {},
   "cell_type": "markdown",
   "id": "547d373e",
   "metadata": {},
   "source": [
    "#### Resultado modelo 1"
   ]
  },
  {
   "cell_type": "code",
   "execution_count": 10,
   "id": "67204541",
   "metadata": {},
   "outputs": [
    {
     "ename": "NameError",
     "evalue": "name 'r2_score' is not defined",
     "output_type": "error",
     "traceback": [
      "\u001b[1;31m---------------------------------------------------------------------------\u001b[0m",
      "\u001b[1;31mNameError\u001b[0m                                 Traceback (most recent call last)",
      "Cell \u001b[1;32mIn[10], line 1\u001b[0m\n\u001b[1;32m----> 1\u001b[0m s1 \u001b[39m=\u001b[39m r2_score(y_test, y_pred)\n\u001b[0;32m      2\u001b[0m s1\n",
      "\u001b[1;31mNameError\u001b[0m: name 'r2_score' is not defined"
     ]
    }
   ],
   "source": [
    "s1 = r2_score(y_test, y_pred)\n",
    "s1"
   ]
  },
  {
   "attachments": {},
   "cell_type": "markdown",
   "id": "5d32373a",
   "metadata": {},
   "source": [
    "### Modelo 2 utilizando algoritmo de optimización utilizado para entrenar redes neuronales en aprendizaje profundo  y función de activación utilizada comúnmente en redes neuronales"
   ]
  },
  {
   "cell_type": "code",
   "execution_count": 96,
   "id": "18f2b8f8",
   "metadata": {},
   "outputs": [
    {
     "data": {
      "text/plain": [
       "array([ 0.49918084,  0.31693663,  0.2277469 ,  0.12184389, -0.6104673 ,\n",
       "       -0.74729584, -0.68652431, -0.81853107, -0.79628954,  0.28642641,\n",
       "        0.46093057, -0.78139403, -0.55414977, -0.05398519, -0.13273492,\n",
       "       -0.22680329, -0.24310076,  0.65761899,  0.89684245,  0.33748535,\n",
       "        0.35392076,  0.21640362, -0.95964336,  0.71634758, -0.28560326,\n",
       "        0.58321448,  0.31369265, -0.51049214,  0.38857056,  0.90858066,\n",
       "        0.14951617,  0.01505034, -0.6724114 ,  0.01080862,  0.40101956,\n",
       "        0.93703326, -0.83683053,  0.98802238, -0.74591833, -0.34306795,\n",
       "       -0.26689285,  0.97317102,  0.11345232,  0.45070142,  0.31833495,\n",
       "       -1.12402844, -0.07453767,  0.63742874, -0.80609143,  0.30537125,\n",
       "       -0.22560523, -0.26887665,  0.3166937 ,  0.22232358,  0.24981784,\n",
       "       -0.17373217, -0.40195999,  0.03818844,  0.0701295 ,  0.72656167,\n",
       "        0.13355535, -0.22179424, -0.40507949, -0.88987866, -0.21778636,\n",
       "       -0.40907069,  0.26604949,  1.07803744, -0.89364779,  0.24153274,\n",
       "        0.68076968,  1.02064275, -0.07751254, -0.68641911,  0.11639045,\n",
       "       -0.78120309, -0.08239341, -0.05118171,  0.2105109 , -0.53233136,\n",
       "        0.36351122, -0.01749427,  0.30288109,  0.30894037, -0.57510972,\n",
       "       -0.36121777, -0.73697487,  1.10793717,  0.44670154,  0.16841179,\n",
       "        0.70759121, -0.64015824, -0.69490329,  0.47409438, -0.40752258,\n",
       "        0.39878314, -0.52718679, -0.28024437,  0.08257985, -0.46884447,\n",
       "        1.07107387,  0.31714054,  0.4319114 , -0.24736668, -0.297898  ,\n",
       "        0.26681013, -0.21621362,  0.19883114,  0.04280769,  0.29272405,\n",
       "       -0.21680077,  0.30116036, -0.42567201])"
      ]
     },
     "execution_count": 96,
     "metadata": {},
     "output_type": "execute_result"
    }
   ],
   "source": [
    "# \"ADAM\" y \"TANH\"\n",
    "mlp = MLPRegressor(hidden_layer_sizes=(10,8), activation=\"tanh\" , solver = \"adam\", max_iter=1000)\n",
    "start = time.time()\n",
    "mlp.fit(X_train,y_train)\n",
    "y_pred = mlp.predict(X_test)\n",
    "end = time.time()\n",
    "t2 = end - start\n",
    "y_pred"
   ]
  },
  {
   "attachments": {},
   "cell_type": "markdown",
   "id": "354abeb8",
   "metadata": {},
   "source": [
    "#### Resultado modelo 2"
   ]
  },
  {
   "cell_type": "code",
   "execution_count": 97,
   "id": "68483577",
   "metadata": {},
   "outputs": [
    {
     "data": {
      "text/plain": [
       "0.7605581181376021"
      ]
     },
     "execution_count": 97,
     "metadata": {},
     "output_type": "execute_result"
    }
   ],
   "source": [
    "s2 = r2_score(y_test, y_pred)\n",
    "s2"
   ]
  },
  {
   "attachments": {},
   "cell_type": "markdown",
   "id": "fb3b22ea",
   "metadata": {},
   "source": [
    "## 11. Compare  los  dos  modelos  de  regresión  y  determine  cuál  funcionó  mejor  para  predecir  el precio de las casas."
   ]
  },
  {
   "cell_type": "code",
   "execution_count": 11,
   "id": "d7c47fb4",
   "metadata": {},
   "outputs": [
    {
     "ename": "NameError",
     "evalue": "name 's1' is not defined",
     "output_type": "error",
     "traceback": [
      "\u001b[1;31m---------------------------------------------------------------------------\u001b[0m",
      "\u001b[1;31mNameError\u001b[0m                                 Traceback (most recent call last)",
      "Cell \u001b[1;32mIn[11], line 2\u001b[0m\n\u001b[0;32m      1\u001b[0m Numeromodelo \u001b[39m=\u001b[39m [\u001b[39m\"\u001b[39m\u001b[39mmodelo1\u001b[39m\u001b[39m\"\u001b[39m, \u001b[39m\"\u001b[39m\u001b[39mmodelo2\u001b[39m\u001b[39m\"\u001b[39m]\n\u001b[1;32m----> 2\u001b[0m scores \u001b[39m=\u001b[39m [s1, s2] \n\u001b[0;32m      3\u001b[0m times \u001b[39m=\u001b[39m [t1, t2]\n\u001b[0;32m      5\u001b[0m d \u001b[39m=\u001b[39m {\u001b[39m'\u001b[39m\u001b[39mTopología\u001b[39m\u001b[39m'\u001b[39m: topology,  \u001b[39m'\u001b[39m\u001b[39mScore\u001b[39m\u001b[39m'\u001b[39m: scores, \u001b[39m'\u001b[39m\u001b[39mTiempo de ejecucion\u001b[39m\u001b[39m'\u001b[39m: times}\n",
      "\u001b[1;31mNameError\u001b[0m: name 's1' is not defined"
     ]
    }
   ],
   "source": [
    "Numeromodelo = [\"modelo1\", \"modelo2\"]\n",
    "scores = [s1, s2] \n",
    "times = [t1, t2]\n",
    "\n",
    "d = {'Topología': topology,  'Score': scores, 'Tiempo de ejecucion': times}\n",
    "df = pd.DataFrame(data=d)\n",
    "pd.options.display.max_colwidth = 100\n",
    "df"
   ]
  },
  {
   "attachments": {},
   "cell_type": "markdown",
   "id": "0af4be54",
   "metadata": {},
   "source": [
    "Podemos ver que el modelo2 fue el que funcionó mejor en comparación al modelo1, pues su precisión es de apoximadamente un 10% mejor, y lo más significativo es el tiempo de ejecución, que lo supera por 0.3 segundos."
   ]
  },
  {
   "attachments": {},
   "cell_type": "markdown",
   "id": "2bc39f0c",
   "metadata": {},
   "source": [
    "## 12. Analice si no hay sobreajuste en los modelos. Use esto para la curva de aprendizaje"
   ]
  },
  {
   "cell_type": "code",
   "execution_count": null,
   "id": "c0d54929",
   "metadata": {},
   "outputs": [],
   "source": [
    "# Aplicar la función a los modelos que has creado\n",
    "plot_learning_curve(modelo1, X_train, y_train, X_test, y_test)\n",
    "plot_learning_curve(modelo2, X_train, y_train, X_test, y_test)"
   ]
  },
  {
   "attachments": {},
   "cell_type": "markdown",
   "id": "cc55e815",
   "metadata": {},
   "source": [
    "## 15. Compare los resultados del mejor modelo de esta hoja para clasificar con los resultados de los algoritmos usados para clasificar de las hojas de trabajo anteriores"
   ]
  },
  {
   "attachments": {},
   "cell_type": "markdown",
   "id": "f368cac0",
   "metadata": {},
   "source": [
    "Aunque todos los algoritmos de clasificación tienen una precisión superior al 90%, no hay información suficiente para determinar si uno es significativamente mejor que otro. Se requieren más pruebas con mayores cantidades de datos de diferentes distribuciones para llegar a una conclusión más sólida. Sin embargo, hay una diferencia significativa en los tiempos de ejecución entre los algoritmos. En particular, las redes neuronales artificiales (RNA) superan ampliamente a los demás algoritmos, con un tiempo de ejecución inferior a 0.1 segundos.\n"
   ]
  },
  {
   "attachments": {},
   "cell_type": "markdown",
   "id": "dc719348",
   "metadata": {},
   "source": [
    "## 16. Compare  los  resultados  del  mejor  modelo  para  predecir  el  precio  de  venta  con  los resultados  de  los  algoritmos  usados  para  el  mismo  propósito  de  las  hojas  de  trabajo anteriores."
   ]
  },
  {
   "attachments": {},
   "cell_type": "markdown",
   "id": "88a048f4",
   "metadata": {},
   "source": [
    "\n",
    "Entre todos los algoritmos evaluados, los árboles de decisión lograron una precisión del 100%, lo que los convierte en los mejores predictores en comparación con los demás. En cambio, la RNA obtuvo los resultados de precisión más bajos, lo que los coloca en la posición opuesta en términos de rendimiento. En cuanto a los tiempos de ejecución, la RNA es significativamente más rápida, con un margen de alrededor de 1 segundo en comparación con los demás algoritmos"
   ]
  }
 ],
 "metadata": {
  "kernelspec": {
   "display_name": "Python 3 (ipykernel)",
   "language": "python",
   "name": "python3"
  },
  "language_info": {
   "codemirror_mode": {
    "name": "ipython",
    "version": 3
   },
   "file_extension": ".py",
   "mimetype": "text/x-python",
   "name": "python",
   "nbconvert_exporter": "python",
   "pygments_lexer": "ipython3",
   "version": "3.11.0"
  }
 },
 "nbformat": 4,
 "nbformat_minor": 5
}
